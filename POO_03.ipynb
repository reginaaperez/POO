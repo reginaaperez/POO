{
  "nbformat": 4,
  "nbformat_minor": 0,
  "metadata": {
    "colab": {
      "provenance": []
    },
    "kernelspec": {
      "name": "python3",
      "display_name": "Python 3"
    },
    "language_info": {
      "name": "python"
    }
  },
  "cells": [
    {
      "cell_type": "code",
      "execution_count": 11,
      "metadata": {
        "id": "JDmt29bZX5Ah"
      },
      "outputs": [],
      "source": [
        "def Perimetro(b, l):\n",
        "  p=(b*2)+l\n",
        "  return p"
      ]
    },
    {
      "cell_type": "code",
      "source": [
        "Perimetro(2,8)"
      ],
      "metadata": {
        "colab": {
          "base_uri": "https://localhost:8080/"
        },
        "id": "Vwihl3fMac_N",
        "outputId": "4023d14c-1c32-4826-8a33-a9f9b9e11414"
      },
      "execution_count": 12,
      "outputs": [
        {
          "output_type": "execute_result",
          "data": {
            "text/plain": [
              "12"
            ]
          },
          "metadata": {},
          "execution_count": 12
        }
      ]
    },
    {
      "cell_type": "code",
      "source": [
        "def numpar(x):\n",
        "  num = x%2\n",
        "  return num"
      ],
      "metadata": {
        "id": "s_bSppskcfO0"
      },
      "execution_count": 10,
      "outputs": []
    },
    {
      "cell_type": "code",
      "source": [
        "numpar (9)"
      ],
      "metadata": {
        "colab": {
          "base_uri": "https://localhost:8080/"
        },
        "id": "1yp1tEdjgZDD",
        "outputId": "c5f86586-6866-4907-be50-50126b862ea5"
      },
      "execution_count": 13,
      "outputs": [
        {
          "output_type": "execute_result",
          "data": {
            "text/plain": [
              "1"
            ]
          },
          "metadata": {},
          "execution_count": 13
        }
      ]
    },
    {
      "cell_type": "code",
      "source": [
        "x=455776\n",
        "\n",
        "if numpar(x)==0:\n",
        "  print(\"par\")\n",
        "else:\n",
        "  print(\"impar\")"
      ],
      "metadata": {
        "colab": {
          "base_uri": "https://localhost:8080/"
        },
        "id": "KvcJ8407lwdL",
        "outputId": "2dfdb4e7-8daa-49cc-879c-bd6e742ca573"
      },
      "execution_count": 17,
      "outputs": [
        {
          "output_type": "stream",
          "name": "stdout",
          "text": [
            "par\n"
          ]
        }
      ]
    },
    {
      "cell_type": "code",
      "source": [
        "#Se pide al usuario que ingrese un número\n",
        "n = int(input(\"Ingresa: \"))\n",
        "\n",
        "#Se desgloza el número escogido\n",
        "L=[i for i in range(1, n) if n%i==0]\n",
        "L"
      ],
      "metadata": {
        "colab": {
          "base_uri": "https://localhost:8080/"
        },
        "id": "U5wA5QoEmYR8",
        "outputId": "1f0c6fb6-9e3c-43b4-982f-7f1876089fb1"
      },
      "execution_count": 22,
      "outputs": [
        {
          "name": "stdout",
          "output_type": "stream",
          "text": [
            "Ingresa: 8\n"
          ]
        },
        {
          "output_type": "execute_result",
          "data": {
            "text/plain": [
              "[1, 2, 4]"
            ]
          },
          "metadata": {},
          "execution_count": 22
        }
      ]
    },
    {
      "cell_type": "code",
      "source": [
        "#Se agregan estos aspectos para demostrar si el número es perfecto o no perfecto, después de la suma de los números\n",
        "if (sum(L) ==n):\n",
        "  print (\"Es perfecto\")\n",
        "else:\n",
        "  print (\"No es perfecto\")"
      ],
      "metadata": {
        "colab": {
          "base_uri": "https://localhost:8080/"
        },
        "id": "HWg6QQStm3Ni",
        "outputId": "321544c4-211b-4c63-a180-53cd679d67ec"
      },
      "execution_count": 24,
      "outputs": [
        {
          "output_type": "stream",
          "name": "stdout",
          "text": [
            "No es perfecto\n"
          ]
        }
      ]
    }
  ]
}