{
  "nbformat": 4,
  "nbformat_minor": 0,
  "metadata": {
    "colab": {
      "provenance": []
    },
    "kernelspec": {
      "name": "python3",
      "display_name": "Python 3"
    },
    "language_info": {
      "name": "python"
    }
  },
  "cells": [
    {
      "cell_type": "markdown",
      "source": [
        "## Ejercicios POO"
      ],
      "metadata": {
        "id": "TgBu7yBbjvVR"
      }
    },
    {
      "cell_type": "markdown",
      "source": [
        "\n",
        "\n",
        "1.   Describe cuáles son las diferencias entre clases y objetos.\n",
        "2. Describe por qué usamos self como primer argumento en los métodos.\n",
        "3. ¿Qué es un constructor? ¿Y por qué lo usamos?\n",
        "4. Describir las diferencias entre los atributos de clase y de instancia.\n",
        "5. La siguiente es una definición de la clase Punto que toma las coordenadas x, y. Agregue un método plot_point que trace la posición del punto.\n",
        "6. Documenta y prueba con algunos puntos el siguiente código:\n",
        "\n",
        "```\n",
        "#\n",
        "import matplotlib.pyplot as plt\n",
        "\n",
        "class Punto():\n",
        "    def __init__(self, x, y):\n",
        "        self.x = x\n",
        "        self.y = y\n",
        "\n",
        "    def plot(self):\n",
        "        plt.scatter(self.x, self.y, color='red', marker='o')\n",
        "        plt.xlabel('X-axis')\n",
        "        plt.ylabel('Y-axis')\n",
        "        plt.title('Gráfica del punto')\n",
        "        plt.grid(True)\n",
        "        plt.show()\n",
        "```\n",
        "\n",
        "7. Cree una clase para modelar algún objeto del mundo real y cree una nueva clase para heredar de él. Un ejemplo puede ser el siguiente. Deberías usar un ejemplo diferente y usar tantas cosas que aprendimos como sea posible.\n",
        "\n",
        "\n",
        "\n",
        "```\n",
        "# class Carro():\n",
        "    def __init__(self, marca, color):\n",
        "        self.marca = marca\n",
        "        self.color = color\n",
        "    \n",
        "    def encender(self):\n",
        "        print('!Listo para conducir!')\n",
        "        \n",
        "class Camioneta(Carro):\n",
        "    def __init__(self, marca, color, tamaño):\n",
        "        super().__init__(marca, color)\n",
        "        self.tamaño = tamaño\n",
        "        \n",
        "    def encender(self, llave):\n",
        "        if llave == 'llave_camioneta':\n",
        "            print('¡Listo para conducir!')\n",
        "        else:\n",
        "            print('La llave no es la correcta')\n",
        "            \n",
        "    def apagar(self, apagar):\n",
        "        if apagar:\n",
        "            print('¡El motor está apagado!')\n",
        "        else:\n",
        "            print('¡Sigo conduciendo!')\n",
        "\n",
        "```\n",
        "\n",
        "\n",
        "\n"
      ],
      "metadata": {
        "id": "OlqRnXzXhqwb"
      }
    },
    {
      "cell_type": "markdown",
      "source": [
        "Respuestas:\n",
        "\n",
        "1. La principal diferencia entre clase y molde es que una clase es un modelo para definir los objetos y estos son identidades dentro del lenguaje\n",
        "2. Para que la clase herencia llame a la clase madre y la misma se puede definir como madre\n",
        "3. Los constructores son para poder designar y establecer objetos\n",
        "4. La diferencia entre un atributo de clase y uno instancia es en la forma de acceder a ellos, por lo tanto para los atributos de instancia solo es posible acceder a través de un objeto, para los atributos de clase se accede directamente desde la clase y/o también por medio de un objeto."
      ],
      "metadata": {
        "id": "YcbOfspSzMxT"
      }
    },
    {
      "cell_type": "code",
      "source": [
        "#5 y 6.\n",
        "import matplotlib.pyplot as plt\n",
        "\n",
        "class Punto():\n",
        "    def __init__(self, x, y):\n",
        "        self.x = x\n",
        "        self.y = y\n",
        "\n",
        "    def plot(self):\n",
        "        plt.scatter(self.x, self.y, color='red', marker='o')\n",
        "        plt.xlabel('X-axis')\n",
        "        plt.ylabel('Y-axis')\n",
        "        plt.title('Gráfica del punto')\n",
        "        plt.grid(True)\n",
        "        plt.show()\n"
      ],
      "metadata": {
        "id": "7skCcYA0icoq"
      },
      "execution_count": 1,
      "outputs": []
    },
    {
      "cell_type": "code",
      "source": [
        "punto = Punto(3,5) #Construimos el punto\n",
        "\n",
        "#Buscamos graficar el punto (3,5)"
      ],
      "metadata": {
        "id": "N-7T8hZp2zpx"
      },
      "execution_count": 2,
      "outputs": []
    },
    {
      "cell_type": "code",
      "source": [
        "punto.plot()"
      ],
      "metadata": {
        "id": "9wq1ek663CMR",
        "outputId": "80d9bd9f-81a3-419b-c2a0-03432379f313",
        "colab": {
          "base_uri": "https://localhost:8080/",
          "height": 472
        }
      },
      "execution_count": 3,
      "outputs": [
        {
          "output_type": "display_data",
          "data": {
            "text/plain": [
              "<Figure size 640x480 with 1 Axes>"
            ],
            "image/png": "[encoded data removed]"
          },
          "metadata": {}
        }
      ]
    },
    {
      "cell_type": "code",
      "source": [
        " #7.\n",
        "\n",
        " class Luces():\n",
        "    def __init__(self, marca, tipo):\n",
        "        self.marca = marca\n",
        "        self.tipo = tipo\n",
        "\n",
        "    def encender(self):\n",
        "        print('!Listo para prender la luz!')\n",
        "\n",
        "class LED(Luces):\n",
        "    def __init__(self, marca, tipo, tamaño):\n",
        "        super().__init__(marca, tipo)\n",
        "        self.tamaño = tamaño\n",
        "\n",
        "    def encender(self, llave):\n",
        "        if llave == 'llave_LED':\n",
        "            print('¡Listo para prender la luz!')\n",
        "        else:\n",
        "            print('El foco no es la correcta')\n",
        "\n",
        "    def apagar(self, apagar):\n",
        "        if apagar:\n",
        "            print('¡El foco está apagado!')\n",
        "        else:\n",
        "            print('¡Sigo pendiendo luces!')\n"
      ],
      "metadata": {
        "id": "Sd3VUf_z3IGm"
      },
      "execution_count": 5,
      "outputs": []
    },
    {
      "cell_type": "code",
      "source": [
        "luces=Luces(\"philips\", \"Led\")"
      ],
      "metadata": {
        "id": "mKIoa36K6TYq"
      },
      "execution_count": 7,
      "outputs": []
    },
    {
      "cell_type": "code",
      "source": [
        "luces.encender()"
      ],
      "metadata": {
        "id": "bnU2e9I06f3v",
        "outputId": "34eff03c-d4e2-4dae-d9e6-f04964b37db9",
        "colab": {
          "base_uri": "https://localhost:8080/"
        }
      },
      "execution_count": 8,
      "outputs": [
        {
          "output_type": "stream",
          "name": "stdout",
          "text": [
            "!Listo para prender la luz!\n"
          ]
        }
      ]
    }
  ]
}