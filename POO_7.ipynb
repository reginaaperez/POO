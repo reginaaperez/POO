{
  "nbformat": 4,
  "nbformat_minor": 0,
  "metadata": {
    "colab": {
      "provenance": []
    },
    "kernelspec": {
      "name": "python3",
      "display_name": "Python 3"
    },
    "language_info": {
      "name": "python"
    }
  },
  "cells": [
    {
      "cell_type": "code",
      "execution_count": 1,
      "metadata": {
        "id": "ooAH02_gfZyT"
      },
      "outputs": [],
      "source": [
        "class Mascota():\n",
        "\n",
        "  def __init__(self):\n",
        "    print(\"Creamos una clase madre\")\n",
        "\n",
        "  def adivina(self):\n",
        "    print(\"Hola. soy un perro\")\n",
        "\n",
        "  def hablar(self):\n",
        "    print(\"Ladro\")"
      ]
    },
    {
      "cell_type": "code",
      "source": [
        "mascota = Mascota()"
      ],
      "metadata": {
        "colab": {
          "base_uri": "https://localhost:8080/"
        },
        "id": "r0yX_IDxgjiX",
        "outputId": "b31fadc2-091c-4097-b740-bce8ced9b7a6"
      },
      "execution_count": 2,
      "outputs": [
        {
          "output_type": "stream",
          "name": "stdout",
          "text": [
            "Creamos una clase madre\n"
          ]
        }
      ]
    },
    {
      "cell_type": "code",
      "source": [
        "mascota.adivina()"
      ],
      "metadata": {
        "colab": {
          "base_uri": "https://localhost:8080/"
        },
        "id": "9f566t5Bm_9T",
        "outputId": "21622616-1c60-4c48-bad4-5a8314d1eb85"
      },
      "execution_count": 3,
      "outputs": [
        {
          "output_type": "stream",
          "name": "stdout",
          "text": [
            "Hola. soy un perro\n"
          ]
        }
      ]
    },
    {
      "cell_type": "code",
      "source": [
        "mascota.hablar()"
      ],
      "metadata": {
        "colab": {
          "base_uri": "https://localhost:8080/"
        },
        "id": "cjjuuC0anEch",
        "outputId": "96dfdc82-b519-4233-9ca6-df44fdc74ef9"
      },
      "execution_count": 4,
      "outputs": [
        {
          "output_type": "stream",
          "name": "stdout",
          "text": [
            "Ladro\n"
          ]
        }
      ]
    },
    {
      "cell_type": "markdown",
      "source": [
        "##Crear una herencia"
      ],
      "metadata": {
        "id": "LetpWxKGglzs"
      }
    },
    {
      "cell_type": "code",
      "source": [
        "class Perro(Mascota):\n",
        "  def _int_(self):\n",
        "    Mascota._int_(self)\n",
        "    print(\"Creamos una clase heredada\")\n",
        "\n",
        "  def nombre(self):\n",
        "    print(\"Luna\")\n",
        "\n",
        "  def adivina(self):\n",
        "    print(\"Golden\")\n",
        "\n",
        "  def idioma(self):\n",
        "    print(\"WUAF\")\n",
        "\n"
      ],
      "metadata": {
        "id": "ZAjmR7KEgqbz"
      },
      "execution_count": 6,
      "outputs": []
    },
    {
      "cell_type": "code",
      "source": [
        "perro = Perro() #llamamos a la clase heredada"
      ],
      "metadata": {
        "colab": {
          "base_uri": "https://localhost:8080/"
        },
        "id": "Bhr2mH-ynxCZ",
        "outputId": "c5aaef7b-7112-4353-8203-15aa7776838c"
      },
      "execution_count": 7,
      "outputs": [
        {
          "output_type": "stream",
          "name": "stdout",
          "text": [
            "Creamos una clase madre\n"
          ]
        }
      ]
    },
    {
      "cell_type": "code",
      "source": [
        "perro.nombre()"
      ],
      "metadata": {
        "colab": {
          "base_uri": "https://localhost:8080/"
        },
        "id": "mZU3QHM2n-So",
        "outputId": "b4c1a4b9-10ee-4778-a171-351e1c3f4d73"
      },
      "execution_count": 9,
      "outputs": [
        {
          "output_type": "stream",
          "name": "stdout",
          "text": [
            "Luna\n"
          ]
        }
      ]
    },
    {
      "cell_type": "code",
      "source": [
        "perro.idioma()"
      ],
      "metadata": {
        "colab": {
          "base_uri": "https://localhost:8080/"
        },
        "id": "hnpj82ajn6af",
        "outputId": "a58d7b07-80e0-4f8a-c740-0e2e9175e910"
      },
      "execution_count": 8,
      "outputs": [
        {
          "output_type": "stream",
          "name": "stdout",
          "text": [
            "WUAF\n"
          ]
        }
      ]
    },
    {
      "cell_type": "code",
      "source": [
        "mascota.adivina()"
      ],
      "metadata": {
        "colab": {
          "base_uri": "https://localhost:8080/"
        },
        "id": "Jka0UBpFoB_W",
        "outputId": "704ee57c-94a1-46fc-a403-0caa79db6352"
      },
      "execution_count": 10,
      "outputs": [
        {
          "output_type": "stream",
          "name": "stdout",
          "text": [
            "Hola. soy un perro\n"
          ]
        }
      ]
    },
    {
      "cell_type": "code",
      "source": [
        "perro.adivina()"
      ],
      "metadata": {
        "colab": {
          "base_uri": "https://localhost:8080/"
        },
        "id": "qNs3CaL5oKVd",
        "outputId": "9d818f26-3d16-4ae9-89b5-0f2869d36ae4"
      },
      "execution_count": 11,
      "outputs": [
        {
          "output_type": "stream",
          "name": "stdout",
          "text": [
            "Golden\n"
          ]
        }
      ]
    },
    {
      "cell_type": "markdown",
      "source": [
        "##Propio texto"
      ],
      "metadata": {
        "id": "fTg6IYqToiPX"
      }
    },
    {
      "cell_type": "code",
      "source": [
        "class Regina():\n",
        "  def __int__(self):\n",
        "    print(\"Creamos clase madre\")\n",
        "\n",
        "  def adivina(self):\n",
        "    print(\"Hola, soy Regina\")\n",
        "\n",
        "  def hablar(self):\n",
        "    print(\"Me gusta bailar\")"
      ],
      "metadata": {
        "id": "bLo3Zz9lolBe"
      },
      "execution_count": 20,
      "outputs": []
    },
    {
      "cell_type": "code",
      "source": [
        "regina = Regina()"
      ],
      "metadata": {
        "id": "58ILUX4Zpa3l"
      },
      "execution_count": 21,
      "outputs": []
    },
    {
      "cell_type": "code",
      "source": [
        "regina.hablar()"
      ],
      "metadata": {
        "colab": {
          "base_uri": "https://localhost:8080/"
        },
        "id": "nfxeibpppnXk",
        "outputId": "09ddceee-771b-4ed5-b2c4-12c53d98a57c"
      },
      "execution_count": 22,
      "outputs": [
        {
          "output_type": "stream",
          "name": "stdout",
          "text": [
            "Me gusta bailar\n"
          ]
        }
      ]
    },
    {
      "cell_type": "code",
      "source": [
        "regina.adivina()"
      ],
      "metadata": {
        "colab": {
          "base_uri": "https://localhost:8080/"
        },
        "id": "QTyfdPXbpp9K",
        "outputId": "19681dba-a051-4a58-f3dc-cab1b563bb3f"
      },
      "execution_count": 23,
      "outputs": [
        {
          "output_type": "stream",
          "name": "stdout",
          "text": [
            "Hola, soy Regina\n"
          ]
        }
      ]
    },
    {
      "cell_type": "code",
      "source": [
        "class Ana(Regina):\n",
        "  def __int_(self):\n",
        "    Regina.__int_(self)\n",
        "    print(\"Creamos una clase heredada\")\n",
        "\n",
        "  def nombre(self):\n",
        "    print(\"Ana\")\n",
        "\n",
        "  def adivina(self):\n",
        "    print(\"Mi mejor amiga\")\n",
        "\n",
        "  def idioma(self):\n",
        "    print(\"Español latino\")\n"
      ],
      "metadata": {
        "id": "jDjPoEAnp4et"
      },
      "execution_count": 24,
      "outputs": []
    },
    {
      "cell_type": "code",
      "source": [
        "ana = Ana()"
      ],
      "metadata": {
        "id": "p7G1TKASrE4v"
      },
      "execution_count": 25,
      "outputs": []
    },
    {
      "cell_type": "code",
      "source": [
        "ana.nombre()"
      ],
      "metadata": {
        "colab": {
          "base_uri": "https://localhost:8080/"
        },
        "id": "q0MULRRMrJDe",
        "outputId": "f876d550-48be-490a-9ec2-63ec9a80b076"
      },
      "execution_count": 26,
      "outputs": [
        {
          "output_type": "stream",
          "name": "stdout",
          "text": [
            "Ana\n"
          ]
        }
      ]
    },
    {
      "cell_type": "code",
      "source": [
        "ana.idioma()"
      ],
      "metadata": {
        "colab": {
          "base_uri": "https://localhost:8080/"
        },
        "id": "zqWLO0c8rNtD",
        "outputId": "ce0db3f4-d28c-47e3-b68f-79daf8b48cfe"
      },
      "execution_count": 27,
      "outputs": [
        {
          "output_type": "stream",
          "name": "stdout",
          "text": [
            "Español latino\n"
          ]
        }
      ]
    },
    {
      "cell_type": "code",
      "source": [
        "ana.adivina()"
      ],
      "metadata": {
        "colab": {
          "base_uri": "https://localhost:8080/"
        },
        "id": "jxxdfpN2rQ2r",
        "outputId": "30a2e527-8714-4059-a276-5ab2e78b38b9"
      },
      "execution_count": 28,
      "outputs": [
        {
          "output_type": "stream",
          "name": "stdout",
          "text": [
            "Mi mejor amiga\n"
          ]
        }
      ]
    },
    {
      "cell_type": "code",
      "source": [
        "regina.adivina()"
      ],
      "metadata": {
        "colab": {
          "base_uri": "https://localhost:8080/"
        },
        "id": "5HlTmF8xrUoD",
        "outputId": "ccb64c41-ddcf-4b01-8e76-31a4ace3e847"
      },
      "execution_count": 29,
      "outputs": [
        {
          "output_type": "stream",
          "name": "stdout",
          "text": [
            "Hola, soy Regina\n"
          ]
        }
      ]
    }
  ]
}