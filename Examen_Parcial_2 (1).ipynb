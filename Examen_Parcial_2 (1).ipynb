{
  "nbformat": 4,
  "nbformat_minor": 0,
  "metadata": {
    "colab": {
      "provenance": []
    },
    "kernelspec": {
      "name": "python3",
      "display_name": "Python 3"
    },
    "language_info": {
      "name": "python"
    }
  },
  "cells": [
    {
      "cell_type": "code",
      "execution_count": 49,
      "metadata": {
        "id": "EkRSsadG-Uks"
      },
      "outputs": [],
      "source": [
        "class Formulas():\n",
        "\n",
        "    def __init__(self):\n",
        "      print(\"Creamos una clase madre\")\n",
        "      return\n",
        "\n",
        "class matriz(Formulas):\n",
        "\n",
        "  def __init__(self, Matriz):\n",
        "    Matriz.__init__(self)\n",
        "    return\n",
        "\n",
        "  import numpy as np\n",
        "\n",
        "  def Lista(self):\n",
        "    self.Matriz=np.array([1,2,3,4,5,6,7,8,9,10,11,12,13,14,15,16]).reshape(4,4)\n",
        "    return\n",
        "\n",
        "\n",
        "  def Det(self):\n",
        "    a = np.linalg.det(self.Matriz)\n",
        "    return\n"
      ]
    },
    {
      "cell_type": "code",
      "source": [
        "formulas = Formulas()"
      ],
      "metadata": {
        "colab": {
          "base_uri": "https://localhost:8080/"
        },
        "id": "hHo73XzkBFeD",
        "outputId": "dd215c1f-893e-41ee-a41f-82b1088b5d93"
      },
      "execution_count": 50,
      "outputs": [
        {
          "output_type": "stream",
          "name": "stdout",
          "text": [
            "Creamos una clase madre\n"
          ]
        }
      ]
    },
    {
      "cell_type": "code",
      "source": [
        "Matriz = arreglo.Lista()\n",
        "Matriz"
      ],
      "metadata": {
        "colab": {
          "base_uri": "https://localhost:8080/",
          "height": 159
        },
        "id": "7gltmXMWBNKx",
        "outputId": "0c43ecdb-ee72-4e6f-feca-f42089d6615e"
      },
      "execution_count": 51,
      "outputs": [
        {
          "output_type": "error",
          "ename": "NameError",
          "evalue": "name 'arreglo' is not defined",
          "traceback": [
            "\u001b[0;31m---------------------------------------------------------------------------\u001b[0m",
            "\u001b[0;31mNameError\u001b[0m                                 Traceback (most recent call last)",
            "\u001b[0;32m<ipython-input-51-b1a544798732>\u001b[0m in \u001b[0;36m<cell line: 1>\u001b[0;34m()\u001b[0m\n\u001b[0;32m----> 1\u001b[0;31m \u001b[0mMatriz\u001b[0m \u001b[0;34m=\u001b[0m \u001b[0marreglo\u001b[0m\u001b[0;34m.\u001b[0m\u001b[0mLista\u001b[0m\u001b[0;34m(\u001b[0m\u001b[0;34m)\u001b[0m\u001b[0;34m\u001b[0m\u001b[0;34m\u001b[0m\u001b[0m\n\u001b[0m\u001b[1;32m      2\u001b[0m \u001b[0mMatriz\u001b[0m\u001b[0;34m\u001b[0m\u001b[0;34m\u001b[0m\u001b[0m\n",
            "\u001b[0;31mNameError\u001b[0m: name 'arreglo' is not defined"
          ]
        }
      ]
    },
    {
      "cell_type": "code",
      "source": [
        "arreglo.Det()"
      ],
      "metadata": {
        "colab": {
          "base_uri": "https://localhost:8080/",
          "height": 141
        },
        "id": "1kgm_10JBaAQ",
        "outputId": "c0f889a7-7be5-458e-a806-130fa8f9f2c2"
      },
      "execution_count": 52,
      "outputs": [
        {
          "output_type": "error",
          "ename": "NameError",
          "evalue": "name 'arreglo' is not defined",
          "traceback": [
            "\u001b[0;31m---------------------------------------------------------------------------\u001b[0m",
            "\u001b[0;31mNameError\u001b[0m                                 Traceback (most recent call last)",
            "\u001b[0;32m<ipython-input-52-f94c20b568bc>\u001b[0m in \u001b[0;36m<cell line: 1>\u001b[0;34m()\u001b[0m\n\u001b[0;32m----> 1\u001b[0;31m \u001b[0marreglo\u001b[0m\u001b[0;34m.\u001b[0m\u001b[0mDet\u001b[0m\u001b[0;34m(\u001b[0m\u001b[0;34m)\u001b[0m\u001b[0;34m\u001b[0m\u001b[0;34m\u001b[0m\u001b[0m\n\u001b[0m",
            "\u001b[0;31mNameError\u001b[0m: name 'arreglo' is not defined"
          ]
        }
      ]
    }
  ]
}