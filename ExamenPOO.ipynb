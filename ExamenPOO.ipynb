{
  "nbformat": 4,
  "nbformat_minor": 0,
  "metadata": {
    "colab": {
      "provenance": []
    },
    "kernelspec": {
      "name": "python3",
      "display_name": "Python 3"
    },
    "language_info": {
      "name": "python"
    }
  },
  "cells": [
    {
      "cell_type": "code",
      "source": [
        "import numpy as np\n",
        "class Formulas():\n",
        "\n",
        "  def _init_(self):\n",
        "     print(\"Creamos una clase madre\")\n",
        "\n",
        "  def area(self):\n",
        "    print(\"Sacar el área de un triángulo\")\n",
        "\n",
        "  def perimetro(self):\n",
        "    print(\"Sacar el perimetro de un triángulo\")\n",
        "\n",
        "class Triangulo(Formulas):\n",
        "  def __init__(self,lado):\n",
        "      self.area = ((3**(1/3))*(lado**2))/4\n",
        "      self.perimetro = lado*3\n",
        "\n",
        "class Matriz(Formulas):\n",
        "  def __init__(self, Matriz):\n",
        "    self.Matriz = Matriz\n",
        "    print(\"Creamos una clase matriz\")\n"
      ],
      "metadata": {
        "id": "hIWymPEA4x7Q"
      },
      "execution_count": 70,
      "outputs": []
    },
    {
      "cell_type": "code",
      "source": [
        "formulas = Formulas()"
      ],
      "metadata": {
        "id": "-S2VLR0m6vZn"
      },
      "execution_count": 71,
      "outputs": []
    },
    {
      "cell_type": "code",
      "source": [
        "triangulo = Triangulo(9)"
      ],
      "metadata": {
        "id": "VPTYg2zq6zuy"
      },
      "execution_count": 72,
      "outputs": []
    },
    {
      "cell_type": "code",
      "source": [
        "triangulo.area"
      ],
      "metadata": {
        "colab": {
          "base_uri": "https://localhost:8080/"
        },
        "id": "bVJpVfFx6_cZ",
        "outputId": "cb6e5024-4038-4527-abe7-5a97421625c6"
      },
      "execution_count": 73,
      "outputs": [
        {
          "output_type": "execute_result",
          "data": {
            "text/plain": [
              "29.205553798725017"
            ]
          },
          "metadata": {},
          "execution_count": 73
        }
      ]
    },
    {
      "cell_type": "code",
      "source": [
        "triangulo.perimetro"
      ],
      "metadata": {
        "colab": {
          "base_uri": "https://localhost:8080/"
        },
        "id": "rL8btki57Coh",
        "outputId": "83ce6543-cb1e-4653-b2f6-c5759d508a2b"
      },
      "execution_count": 74,
      "outputs": [
        {
          "output_type": "execute_result",
          "data": {
            "text/plain": [
              "27"
            ]
          },
          "metadata": {},
          "execution_count": 74
        }
      ]
    },
    {
      "cell_type": "code",
      "source": [
        "L = [i for i in np.random.randint(1,21, size=40) if i%2==0]\n",
        "L"
      ],
      "metadata": {
        "colab": {
          "base_uri": "https://localhost:8080/"
        },
        "id": "lqTe-e0l_Fpw",
        "outputId": "041aec20-b02c-4c79-a86a-e4c6573aaf48"
      },
      "execution_count": 167,
      "outputs": [
        {
          "output_type": "execute_result",
          "data": {
            "text/plain": [
              "[18, 10, 8, 10, 8, 16, 6, 6, 4, 12, 12, 16, 6, 12, 6, 14]"
            ]
          },
          "metadata": {},
          "execution_count": 167
        }
      ]
    },
    {
      "cell_type": "code",
      "source": [
        "L_arreglo = np.array(L)\n",
        "L_arreglo"
      ],
      "metadata": {
        "colab": {
          "base_uri": "https://localhost:8080/"
        },
        "id": "GZ72X5Um_VBq",
        "outputId": "a7662464-3d6d-482a-9068-0f341d803473"
      },
      "execution_count": 168,
      "outputs": [
        {
          "output_type": "execute_result",
          "data": {
            "text/plain": [
              "array([18, 10,  8, 10,  8, 16,  6,  6,  4, 12, 12, 16,  6, 12,  6, 14])"
            ]
          },
          "metadata": {},
          "execution_count": 168
        }
      ]
    },
    {
      "cell_type": "code",
      "source": [
        "len(L_arreglo)"
      ],
      "metadata": {
        "colab": {
          "base_uri": "https://localhost:8080/"
        },
        "id": "xoX5jbwk_caJ",
        "outputId": "5b74d60c-a2ad-4000-eb13-524464e1df3c"
      },
      "execution_count": 169,
      "outputs": [
        {
          "output_type": "execute_result",
          "data": {
            "text/plain": [
              "16"
            ]
          },
          "metadata": {},
          "execution_count": 169
        }
      ]
    },
    {
      "cell_type": "code",
      "source": [
        "L_matriz= L_arreglo.reshape(4,4)\n",
        "L_matriz"
      ],
      "metadata": {
        "colab": {
          "base_uri": "https://localhost:8080/"
        },
        "id": "miiperax_kws",
        "outputId": "58938f62-525d-4f4d-c3c2-7ad0c1e00e85"
      },
      "execution_count": 170,
      "outputs": [
        {
          "output_type": "execute_result",
          "data": {
            "text/plain": [
              "array([[18, 10,  8, 10],\n",
              "       [ 8, 16,  6,  6],\n",
              "       [ 4, 12, 12, 16],\n",
              "       [ 6, 12,  6, 14]])"
            ]
          },
          "metadata": {},
          "execution_count": 170
        }
      ]
    },
    {
      "cell_type": "code",
      "source": [
        "import numpy as np\n",
        "def calcula_determinante(Matriz):\n",
        "  determinante=np.linalg.det(Matriz)\n",
        "  print (\"El determinante es:\")\n",
        "  print(determinante)"
      ],
      "metadata": {
        "id": "8HA1YlVzATjK"
      },
      "execution_count": 190,
      "outputs": []
    },
    {
      "cell_type": "code",
      "source": [
        "determinante=calcula_determinante(L_matriz)"
      ],
      "metadata": {
        "colab": {
          "base_uri": "https://localhost:8080/"
        },
        "id": "IHgIgbdmAlkB",
        "outputId": "50452a99-fbb7-4acf-908f-b5844c2a1f80"
      },
      "execution_count": 191,
      "outputs": [
        {
          "output_type": "stream",
          "name": "stdout",
          "text": [
            "El determinante es:\n",
            "12223.999999999985\n"
          ]
        }
      ]
    }
  ]
}