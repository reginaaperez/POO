{
  "nbformat": 4,
  "nbformat_minor": 0,
  "metadata": {
    "colab": {
      "provenance": []
    },
    "kernelspec": {
      "name": "python3",
      "display_name": "Python 3"
    },
    "language_info": {
      "name": "python"
    }
  },
  "cells": [
    {
      "cell_type": "markdown",
      "source": [
        "###Listas"
      ],
      "metadata": {
        "id": "6la_KLMXT82S"
      }
    },
    {
      "cell_type": "code",
      "execution_count": 1,
      "metadata": {
        "colab": {
          "base_uri": "https://localhost:8080/"
        },
        "id": "EB5wYN7HRCKw",
        "outputId": "aad822b4-591f-4c95-d186-bee6715e565e"
      },
      "outputs": [
        {
          "output_type": "execute_result",
          "data": {
            "text/plain": [
              "range(0, 10)"
            ]
          },
          "metadata": {},
          "execution_count": 1
        }
      ],
      "source": [
        "# Vamos a generar una lista vacía\n",
        "\n",
        "L =[]\n",
        "\n",
        "range(10)"
      ]
    },
    {
      "cell_type": "code",
      "source": [
        "L = [1, 2, 3, 4]\n",
        "L"
      ],
      "metadata": {
        "colab": {
          "base_uri": "https://localhost:8080/"
        },
        "id": "Ve5ytmv1WI1R",
        "outputId": "fe744844-ec28-48de-931c-9717e75c3864"
      },
      "execution_count": 6,
      "outputs": [
        {
          "output_type": "execute_result",
          "data": {
            "text/plain": [
              "[1, 2, 3, 4]"
            ]
          },
          "metadata": {},
          "execution_count": 6
        }
      ]
    },
    {
      "cell_type": "code",
      "source": [
        "L.append(5)\n",
        "L"
      ],
      "metadata": {
        "colab": {
          "base_uri": "https://localhost:8080/"
        },
        "id": "4Ff23nuvZqKG",
        "outputId": "25031b00-9029-4c73-de53-3e8eedd2c517"
      },
      "execution_count": 7,
      "outputs": [
        {
          "output_type": "execute_result",
          "data": {
            "text/plain": [
              "[1, 2, 3, 4, 5]"
            ]
          },
          "metadata": {},
          "execution_count": 7
        }
      ]
    },
    {
      "cell_type": "code",
      "source": [
        "for  i in range(10):\n",
        "  print(i)"
      ],
      "metadata": {
        "colab": {
          "base_uri": "https://localhost:8080/"
        },
        "id": "SvqCTcUJVEpR",
        "outputId": "c843dcc4-77ca-498e-e787-eed4f81be5d9"
      },
      "execution_count": 3,
      "outputs": [
        {
          "output_type": "stream",
          "name": "stdout",
          "text": [
            "0\n",
            "1\n",
            "2\n",
            "3\n",
            "4\n",
            "5\n",
            "6\n",
            "7\n",
            "8\n",
            "9\n"
          ]
        }
      ]
    },
    {
      "cell_type": "markdown",
      "source": [
        "###Listas por comprensión"
      ],
      "metadata": {
        "id": "eB03iEweZ6cu"
      }
    },
    {
      "cell_type": "code",
      "source": [
        "type([ ])\n"
      ],
      "metadata": {
        "colab": {
          "base_uri": "https://localhost:8080/"
        },
        "id": "6DO3LPfkaUCS",
        "outputId": "c1abaf60-5e9d-45f8-a24b-682f983a06c5"
      },
      "execution_count": 8,
      "outputs": [
        {
          "output_type": "execute_result",
          "data": {
            "text/plain": [
              "list"
            ]
          },
          "metadata": {},
          "execution_count": 8
        }
      ]
    },
    {
      "cell_type": "code",
      "source": [
        "len([2, 4, 6, 8])"
      ],
      "metadata": {
        "colab": {
          "base_uri": "https://localhost:8080/"
        },
        "id": "hpIIyqbnaYiP",
        "outputId": "0e68b1e2-26f3-4017-ba81-63dbf2abde37"
      },
      "execution_count": 10,
      "outputs": [
        {
          "output_type": "execute_result",
          "data": {
            "text/plain": [
              "4"
            ]
          },
          "metadata": {},
          "execution_count": 10
        }
      ]
    },
    {
      "cell_type": "code",
      "source": [
        "Pares = [i for i in range(1, 101) if i%2==0]\n",
        "Pares"
      ],
      "metadata": {
        "colab": {
          "base_uri": "https://localhost:8080/"
        },
        "id": "Fw9glq14baKY",
        "outputId": "afaa54ae-5bac-417b-9332-f46643378c00"
      },
      "execution_count": 13,
      "outputs": [
        {
          "output_type": "execute_result",
          "data": {
            "text/plain": [
              "[2,\n",
              " 4,\n",
              " 6,\n",
              " 8,\n",
              " 10,\n",
              " 12,\n",
              " 14,\n",
              " 16,\n",
              " 18,\n",
              " 20,\n",
              " 22,\n",
              " 24,\n",
              " 26,\n",
              " 28,\n",
              " 30,\n",
              " 32,\n",
              " 34,\n",
              " 36,\n",
              " 38,\n",
              " 40,\n",
              " 42,\n",
              " 44,\n",
              " 46,\n",
              " 48,\n",
              " 50,\n",
              " 52,\n",
              " 54,\n",
              " 56,\n",
              " 58,\n",
              " 60,\n",
              " 62,\n",
              " 64,\n",
              " 66,\n",
              " 68,\n",
              " 70,\n",
              " 72,\n",
              " 74,\n",
              " 76,\n",
              " 78,\n",
              " 80,\n",
              " 82,\n",
              " 84,\n",
              " 86,\n",
              " 88,\n",
              " 90,\n",
              " 92,\n",
              " 94,\n",
              " 96,\n",
              " 98,\n",
              " 100]"
            ]
          },
          "metadata": {},
          "execution_count": 13
        }
      ]
    },
    {
      "cell_type": "code",
      "source": [
        "import numpy as np"
      ],
      "metadata": {
        "id": "feqh4S9TgSKR"
      },
      "execution_count": 18,
      "outputs": []
    },
    {
      "cell_type": "code",
      "source": [
        "np.random.randint(1,101, 5)"
      ],
      "metadata": {
        "colab": {
          "base_uri": "https://localhost:8080/"
        },
        "id": "6FOPut8ZgyWs",
        "outputId": "521fe21b-feb4-4457-9e7a-0638692cc9ba"
      },
      "execution_count": 25,
      "outputs": [
        {
          "output_type": "execute_result",
          "data": {
            "text/plain": [
              "array([64, 91, 70, 72, 42])"
            ]
          },
          "metadata": {},
          "execution_count": 25
        }
      ]
    },
    {
      "cell_type": "code",
      "source": [
        "np.random.randint(1,10, 100)\n"
      ],
      "metadata": {
        "colab": {
          "base_uri": "https://localhost:8080/"
        },
        "id": "IG9qKpCdhPgI",
        "outputId": "38b71ca9-61d7-4fa3-f3d2-137128daf093"
      },
      "execution_count": 28,
      "outputs": [
        {
          "output_type": "execute_result",
          "data": {
            "text/plain": [
              "array([9, 4, 5, 3, 2, 2, 2, 3, 1, 2, 4, 5, 7, 6, 2, 2, 6, 7, 5, 8, 8, 4,\n",
              "       2, 1, 2, 5, 8, 5, 3, 4, 2, 4, 1, 5, 3, 7, 2, 1, 6, 9, 9, 1, 1, 9,\n",
              "       4, 4, 4, 9, 2, 3, 7, 2, 2, 4, 9, 9, 3, 8, 2, 5, 3, 6, 3, 7, 7, 6,\n",
              "       2, 5, 9, 2, 9, 8, 9, 8, 4, 3, 3, 7, 5, 3, 7, 1, 4, 4, 7, 7, 6, 1,\n",
              "       5, 5, 3, 7, 7, 6, 8, 3, 1, 5, 5, 8])"
            ]
          },
          "metadata": {},
          "execution_count": 28
        }
      ]
    },
    {
      "cell_type": "code",
      "source": [
        "Pares = [i for i in np.random.randint(1,10, 100) if i%2==0]\n",
        "Pares"
      ],
      "metadata": {
        "colab": {
          "base_uri": "https://localhost:8080/"
        },
        "id": "_uXZ3gU7k_nI",
        "outputId": "63989095-aa8b-4c32-f08e-a921a836b81d"
      },
      "execution_count": 29,
      "outputs": [
        {
          "output_type": "execute_result",
          "data": {
            "text/plain": [
              "[6,\n",
              " 4,\n",
              " 4,\n",
              " 8,\n",
              " 6,\n",
              " 6,\n",
              " 6,\n",
              " 6,\n",
              " 2,\n",
              " 8,\n",
              " 8,\n",
              " 8,\n",
              " 6,\n",
              " 6,\n",
              " 4,\n",
              " 6,\n",
              " 8,\n",
              " 6,\n",
              " 8,\n",
              " 2,\n",
              " 8,\n",
              " 2,\n",
              " 8,\n",
              " 8,\n",
              " 8,\n",
              " 4,\n",
              " 4,\n",
              " 6,\n",
              " 4,\n",
              " 4,\n",
              " 8,\n",
              " 8,\n",
              " 4,\n",
              " 8,\n",
              " 6,\n",
              " 4,\n",
              " 4,\n",
              " 2,\n",
              " 8,\n",
              " 4,\n",
              " 8,\n",
              " 2,\n",
              " 6,\n",
              " 8,\n",
              " 6,\n",
              " 6]"
            ]
          },
          "metadata": {},
          "execution_count": 29
        }
      ]
    }
  ]
}